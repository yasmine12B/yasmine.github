{
 "cells": [
  {
   "cell_type": "markdown",
   "id": "90c96dd9-acad-45ed-bc06-9dda0ae3d742",
   "metadata": {},
   "source": [
    "## this is a machine learning template project "
   ]
  },
  {
   "cell_type": "markdown",
   "id": "8e197684-e3c8-4ad9-b5a7-83ef8c3585e5",
   "metadata": {},
   "source": [
    "hello i m **yasmine**"
   ]
  },
  {
   "cell_type": "code",
   "execution_count": null,
   "id": "2b81770b-4a38-4f59-a322-cc5d1c15fb86",
   "metadata": {},
   "outputs": [],
   "source": []
  }
 ],
 "metadata": {
  "kernelspec": {
   "display_name": "Python 3 (ipykernel)",
   "language": "python",
   "name": "python3"
  },
  "language_info": {
   "codemirror_mode": {
    "name": "ipython",
    "version": 3
   },
   "file_extension": ".py",
   "mimetype": "text/x-python",
   "name": "python",
   "nbconvert_exporter": "python",
   "pygments_lexer": "ipython3",
   "version": "3.8.20"
  }
 },
 "nbformat": 4,
 "nbformat_minor": 5
}
